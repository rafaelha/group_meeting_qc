{
 "cells": [
  {
   "cell_type": "markdown",
   "metadata": {},
   "source": [
    " # An Introduction to Quantum Computation"
   ]
  },
  {
   "cell_type": "markdown",
   "metadata": {},
   "source": [
    "The aim of this tutorial is to show all of you how simple and straightforward it is to use an actual quantum computer. Maybe somebody will get inspired!\n",
    "\n",
    "First, let us import some python packages and define useful functions. We will be using an [IBM quantum computer](https://www.ibm.com/quantum-computing/) and communicate with it using both the [IBM qiskit](https://qiskit.org/documentation/install.html) package and the [pennylane](https://pennylane.ai/install.html) package (with [qiskit plugin](https://pennylane-qiskit.readthedocs.io/en/latest/installation.html)) developed by [Xanadu](https://www.xanadu.ai/) in Toronto."
   ]
  },
  {
   "cell_type": "code",
   "execution_count": 69,
   "metadata": {},
   "outputs": [],
   "source": [
    "import numpy as np\n",
    "import matplotlib.pyplot as plt\n",
    "import scipy.linalg as la\n",
    "from qiskit import *\n",
    "from qiskit.tools.monitor import job_monitor\n",
    "from qiskit.visualization import plot_histogram\n",
    "from qiskit.ignis.verification.tomography import state_tomography_circuits, StateTomographyFitter\n",
    "\n",
    "def plot_rho(rho):\n",
    "    plt.figure()\n",
    "    plt.subplot(121)\n",
    "    plt.imshow(np.real(rho), clim=(0,0.5))\n",
    "    plt.colorbar()\n",
    "    plt.title(r\"Re[$\\rho_{exp}$]\");\n",
    "    plt.subplot(122)\n",
    "    plt.imshow(np.imag(rho), clim=(0,0.5))\n",
    "    plt.colorbar()\n",
    "    plt.title(r\"Im[$\\rho_{exp}$]\");\n"
   ]
  },
  {
   "cell_type": "markdown",
   "metadata": {},
   "source": [
    "# Quantum circuits\n",
    "\n",
    "Quantum circuit start with a bunch of qubits all in the state $\\ket{0}$ and then apply a bunch of unitary gates. Finally, a measurement in the computational basis (z-basis) is performed."
   ]
  },
  {
   "cell_type": "markdown",
   "metadata": {},
   "source": [
    "Here is a list of the most important gates and their implementation in qiskit.\n",
    "\n",
    "### Pauli-gates"
   ]
  },
  {
   "cell_type": "code",
   "execution_count": 79,
   "metadata": {},
   "outputs": [
    {
     "name": "stdout",
     "output_type": "stream",
     "text": [
      "        ┌───┐┌───┐┌───┐\n",
      "q_0: |0>┤ X ├┤ Y ├┤ Z ├\n",
      "        └───┘└───┘└───┘\n"
     ]
    }
   ],
   "source": [
    "# Create a Quantum Circuit acting on a quantum register of one qubit\n",
    "qc = QuantumCircuit(1)\n",
    "# Apply gates\n",
    "qc.x(0)\n",
    "qc.y(0)\n",
    "qc.z(0)\n",
    "print(qc)"
   ]
  },
  {
   "cell_type": "markdown",
   "metadata": {},
   "source": [
    "### Hadamard gate\n",
    "\n",
    "$$\n",
    "H = \\frac{1}{\\sqrt{2}}\\begin{pmatrix}\n",
    "1 & 1\\\\\n",
    "1 & -1\n",
    "\\end{pmatrix}\n",
    ",\n",
    "\\quad\n",
    "H \\ket{0} = \\ket{+}\n",
    ",\n",
    "\\quad\n",
    "H \\ket{1} = \\ket{-}\n",
    ",\n",
    "\\quad\n",
    "H \\ket{+} = \\ket{0}\n",
    ",\n",
    "\\quad\n",
    "H \\ket{-} = \\ket{1}\n",
    "$$"
   ]
  },
  {
   "cell_type": "code",
   "execution_count": 80,
   "metadata": {},
   "outputs": [
    {
     "name": "stdout",
     "output_type": "stream",
     "text": [
      "        ┌───┐\n",
      "q_0: |0>┤ H ├\n",
      "        └───┘\n"
     ]
    }
   ],
   "source": [
    "qc = QuantumCircuit(1)\n",
    "qc.h(0)\n",
    "print(qc)"
   ]
  },
  {
   "cell_type": "markdown",
   "metadata": {},
   "source": [
    "### S gate (phase gate)\n",
    "\n",
    "$$\n",
    "S = \\begin{pmatrix}\n",
    "1 & 0\\\\\n",
    "0 & i\n",
    "\\end{pmatrix}\n",
    ",\n",
    "\\quad\n",
    "S \\ket{+} = \\frac{1}{\\sqrt{2}}\\left(\\ket{0} + i \\ket{1}\\right) = \\ket{\\circlearrowright}\n",
    ",\n",
    "\\quad\n",
    "S \\ket{-} = \\frac{1}{\\sqrt{2}}\\left(\\ket{0} - i \\ket{1}\\right) = \\ket{\\circlearrowleft}\n",
    "$$"
   ]
  },
  {
   "cell_type": "code",
   "execution_count": 81,
   "metadata": {},
   "outputs": [
    {
     "name": "stdout",
     "output_type": "stream",
     "text": [
      "        ┌───┐\n",
      "q_0: |0>┤ S ├\n",
      "        └───┘\n"
     ]
    }
   ],
   "source": [
    "qc = QuantumCircuit(1)\n",
    "qc.s(0)\n",
    "print(qc)"
   ]
  },
  {
   "cell_type": "markdown",
   "metadata": {},
   "source": [
    "### Controlled not (CX, CNOT)\n",
    "\n",
    "$$\n",
    "CX\\ket{00} = \\ket{00}, \\quad\n",
    "CX\\ket{01} = \\ket{01}, \\quad\n",
    "CX\\ket{10} = \\ket{11}, \\quad\n",
    "CX\\ket{11} = \\ket{10}\n",
    "$$"
   ]
  },
  {
   "cell_type": "code",
   "execution_count": 82,
   "metadata": {},
   "outputs": [
    {
     "name": "stdout",
     "output_type": "stream",
     "text": [
      "             \n",
      "q_0: |0>──■──\n",
      "        ┌─┴─┐\n",
      "q_1: |0>┤ X ├\n",
      "        └───┘\n"
     ]
    }
   ],
   "source": [
    "qc = QuantumCircuit(2)\n",
    "qc.cx(0,1)\n",
    "print(qc)"
   ]
  },
  {
   "cell_type": "markdown",
   "metadata": {},
   "source": [
    "### Controlled Z (CZ)\n",
    "\n",
    "$$\n",
    "CZ\\ket{00} = \\ket{00}, \\quad\n",
    "CZ\\ket{01} = \\ket{01}, \\quad\n",
    "CZ\\ket{10} = \\ket{10}, \\quad\n",
    "CZ\\ket{11} = -\\ket{11}\n",
    "$$"
   ]
  },
  {
   "cell_type": "code",
   "execution_count": 78,
   "metadata": {},
   "outputs": [
    {
     "name": "stdout",
     "output_type": "stream",
     "text": [
      "           \n",
      "q_0: |0>─■─\n",
      "         │ \n",
      "q_1: |0>─■─\n",
      "           \n"
     ]
    }
   ],
   "source": [
    "qc = QuantumCircuit(2)\n",
    "qc.cz(0,1)\n",
    "print(qc)"
   ]
  },
  {
   "cell_type": "markdown",
   "metadata": {},
   "source": [
    "# Bell singlet\n",
    "\n",
    "One of the simplest nontrivial quantum states is the Bell singlet state\n",
    "$$|\\Psi\\rangle = \\frac{1}{\\sqrt{2}}(|01\\rangle - |10\\rangle),$$. We implement it with the quantum circuit below."
   ]
  },
  {
   "cell_type": "code",
   "execution_count": 71,
   "metadata": {},
   "outputs": [
    {
     "name": "stdout",
     "output_type": "stream",
     "text": [
      "             ┌───┐┌───┐      ░ ┌─┐   \n",
      "     q_0: |0>┤ X ├┤ H ├──■───░─┤M├───\n",
      "             ├───┤└───┘┌─┴─┐ ░ └╥┘┌─┐\n",
      "     q_1: |0>┤ X ├─────┤ X ├─░──╫─┤M├\n",
      "             └───┘     └───┘ ░  ║ └╥┘\n",
      "measure_0: 0 ═══════════════════╩══╬═\n",
      "                                   ║ \n",
      "measure_1: 0 ══════════════════════╩═\n",
      "                                     \n"
     ]
    }
   ],
   "source": [
    "# Create a Quantum Circuit acting on a quantum register of two qubits\n",
    "qc = QuantumCircuit(2)\n",
    "# Apply a bunch of unitary gates\n",
    "qc.x([0,1])\n",
    "qc.h(0)\n",
    "qc.cx(0,1)\n",
    "qc.measure_all()\n",
    "print(qc)"
   ]
  },
  {
   "cell_type": "markdown",
   "metadata": {},
   "source": [
    "Does this circuit really do what we want? Let's check, step by step:\n",
    "$$\n",
    "\\ket{00}\\rightarrow \\ket{11} \\rightarrow \\frac{1}{2}\\left(\\ket{01} - \\ket{11} \\right) \\rightarrow \\frac{1}{2}\\left(\\ket{01} - \\ket{10}\\right)\n",
    "$$\n",
    "\n",
    "Good!  The circuit is followed by two measurements un the computational basis (z-basis) that store the outcomes in the classical bits `measure_0` and `measure_1` shown by double wires.\n",
    "\n",
    "Now let's connect to the IBM cloud. Access to the quantum computers is free and unlimited for everyone."
   ]
  },
  {
   "cell_type": "code",
   "execution_count": 61,
   "metadata": {},
   "outputs": [
    {
     "name": "stderr",
     "output_type": "stream",
     "text": [
      "WARNING:qiskit.providers.ibmq.ibmqfactory:Credentials are already in use. The existing account in the session will be replaced.\n"
     ]
    }
   ],
   "source": [
    "IBMQ.load_account()\n",
    "provider = IBMQ.get_provider(group='open')\n",
    "provider.backends()\n",
    "simulator = provider.get_backend('ibmq_qasm_simulator')"
   ]
  },
  {
   "cell_type": "markdown",
   "metadata": {},
   "source": [
    "We can choose to first run the quantum circuit on a simulator. The results are as expected: roughly half the timem '01' and half the time '10'."
   ]
  },
  {
   "cell_type": "code",
   "execution_count": 40,
   "metadata": {},
   "outputs": [
    {
     "name": "stdout",
     "output_type": "stream",
     "text": [
      "{'10': 510, '01': 514}\n"
     ]
    }
   ],
   "source": [
    "job_sim = execute(qc, backend=Aer.get_backend('qasm_simulator'), shots=1024)\n",
    "result_sim = job_sim.result()\n",
    "counts_sim = result_sim.get_counts(qc)\n",
    "print(counts_sim)"
   ]
  },
  {
   "cell_type": "markdown",
   "metadata": {},
   "source": [
    "Running the circuit on the actual quantum device is just as simple. Note the parameter `shots=1024` that defines how many times the experiment is to be repeated."
   ]
  },
  {
   "cell_type": "code",
   "execution_count": 41,
   "metadata": {},
   "outputs": [
    {
     "name": "stdout",
     "output_type": "stream",
     "text": [
      "Job Status: job has successfully run\n"
     ]
    }
   ],
   "source": [
    "least_busy = providers.ibmq.least_busy(provider.backends(filters=lambda b: b.configuration().n_qubits >= 2)[1:])\n",
    "job_exp = execute(qc, backend=least_busy, shots=1024)\n",
    "job_monitor(job_exp)"
   ]
  },
  {
   "cell_type": "code",
   "execution_count": 42,
   "metadata": {},
   "outputs": [
    {
     "data": {
      "image/png": "[encoded data removed]",
      "text/plain": [
       "<Figure size 504x360 with 1 Axes>"
      ]
     },
     "execution_count": 42,
     "metadata": {},
     "output_type": "execute_result"
    }
   ],
   "source": [
    "result_exp = job_exp.result()\n",
    "counts_exp = result_exp.get_counts(qc)\n",
    "plot_histogram([counts_exp,counts_sim], legend=['Device', 'Simulator'])"
   ]
  },
  {
   "cell_type": "markdown",
   "metadata": {},
   "source": [
    "## 1. Quantum state tomography\n",
    "\n",
    "Measurement in the $x$-basis is performed by applying a Hadamard gate followed by $z$-measurement. This is because $\\ket{+}=\\ket{0}$ and $\\ket{-}=\\ket{1}$. For a $y$-measurement we apply $S^\\dagger H$ before $z$-measurement: $ H S^\\dagger \\ket{\\circlearrowright} = \\ket{0}$, $ H S^\\dagger \\ket{\\circlearrowleft} = \\ket{1}$.\n",
    "\n",
    "Our goal is to construct the reduced density matrix from measurements of all possible combinations of $x$-, $y$-, and $z$-measurements (i.e. there are $3^n$ measurements for $n$ qubits). We contruct all 9 circuit corresponding to these measurements below."
   ]
  },
  {
   "cell_type": "code",
   "execution_count": 50,
   "metadata": {},
   "outputs": [
    {
     "name": "stdout",
     "output_type": "stream",
     "text": [
      "        ┌───┐┌───┐      ░ ┌───┐┌─┐   \n",
      "q_0: |0>┤ X ├┤ H ├──■───░─┤ H ├┤M├───\n",
      "        ├───┤└───┘┌─┴─┐ ░ ├───┤└╥┘┌─┐\n",
      "q_1: |0>┤ X ├─────┤ X ├─░─┤ H ├─╫─┤M├\n",
      "        └───┘     └───┘ ░ └───┘ ║ └╥┘\n",
      "c1_0: 0 ════════════════════════╩══╬═\n",
      "                                   ║ \n",
      "c1_1: 0 ═══════════════════════════╩═\n",
      "                                     \n",
      "        ┌───┐┌───┐      ░  ┌───┐ ┌─┐        \n",
      "q_0: |0>┤ X ├┤ H ├──■───░──┤ H ├─┤M├────────\n",
      "        ├───┤└───┘┌─┴─┐ ░ ┌┴───┴┐└╥┘┌───┐┌─┐\n",
      "q_1: |0>┤ X ├─────┤ X ├─░─┤ Sdg ├─╫─┤ H ├┤M├\n",
      "        └───┘     └───┘ ░ └─────┘ ║ └───┘└╥┘\n",
      "c1_0: 0 ══════════════════════════╩═══════╬═\n",
      "                                          ║ \n",
      "c1_1: 0 ══════════════════════════════════╩═\n",
      "                                            \n",
      "        ┌───┐┌───┐      ░ ┌───┐┌─┐\n",
      "q_0: |0>┤ X ├┤ H ├──■───░─┤ H ├┤M├\n",
      "        ├───┤└───┘┌─┴─┐ ░ └┬─┬┘└╥┘\n",
      "q_1: |0>┤ X ├─────┤ X ├─░──┤M├──╫─\n",
      "        └───┘     └───┘ ░  └╥┘  ║ \n",
      "c1_0: 0 ════════════════════╬═══╩═\n",
      "                            ║     \n",
      "c1_1: 0 ════════════════════╩═════\n",
      "                                  \n",
      "        ┌───┐┌───┐      ░ ┌─────┐┌───┐┌─┐\n",
      "q_0: |0>┤ X ├┤ H ├──■───░─┤ Sdg ├┤ H ├┤M├\n",
      "        ├───┤└───┘┌─┴─┐ ░ └┬───┬┘└┬─┬┘└╥┘\n",
      "q_1: |0>┤ X ├─────┤ X ├─░──┤ H ├──┤M├──╫─\n",
      "        └───┘     └───┘ ░  └───┘  └╥┘  ║ \n",
      "c1_0: 0 ═══════════════════════════╬═══╩═\n",
      "                                   ║     \n",
      "c1_1: 0 ═══════════════════════════╩═════\n",
      "                                         \n",
      "        ┌───┐┌───┐      ░ ┌─────┐┌───┐┌─┐   \n",
      "q_0: |0>┤ X ├┤ H ├──■───░─┤ Sdg ├┤ H ├┤M├───\n",
      "        ├───┤└───┘┌─┴─┐ ░ ├─────┤├───┤└╥┘┌─┐\n",
      "q_1: |0>┤ X ├─────┤ X ├─░─┤ Sdg ├┤ H ├─╫─┤M├\n",
      "        └───┘     └───┘ ░ └─────┘└───┘ ║ └╥┘\n",
      "c1_0: 0 ═══════════════════════════════╩══╬═\n",
      "                                          ║ \n",
      "c1_1: 0 ══════════════════════════════════╩═\n",
      "                                            \n",
      "        ┌───┐┌───┐      ░ ┌─────┐┌───┐┌─┐\n",
      "q_0: |0>┤ X ├┤ H ├──■───░─┤ Sdg ├┤ H ├┤M├\n",
      "        ├───┤└───┘┌─┴─┐ ░ └─┬─┬─┘└───┘└╥┘\n",
      "q_1: |0>┤ X ├─────┤ X ├─░───┤M├────────╫─\n",
      "        └───┘     └───┘ ░   └╥┘        ║ \n",
      "c1_0: 0 ═════════════════════╬═════════╩═\n",
      "                             ║           \n",
      "c1_1: 0 ═════════════════════╩═══════════\n",
      "                                         \n",
      "        ┌───┐┌───┐      ░ ┌─┐        \n",
      "q_0: |0>┤ X ├┤ H ├──■───░─┤M├────────\n",
      "        ├───┤└───┘┌─┴─┐ ░ └╥┘┌───┐┌─┐\n",
      "q_1: |0>┤ X ├─────┤ X ├─░──╫─┤ H ├┤M├\n",
      "        └───┘     └───┘ ░  ║ └───┘└╥┘\n",
      "c1_0: 0 ═══════════════════╩═══════╬═\n",
      "                                   ║ \n",
      "c1_1: 0 ═══════════════════════════╩═\n",
      "                                     \n",
      "        ┌───┐┌───┐      ░ ┌─┐               \n",
      "q_0: |0>┤ X ├┤ H ├──■───░─┤M├───────────────\n",
      "        ├───┤└───┘┌─┴─┐ ░ └╥┘┌─────┐┌───┐┌─┐\n",
      "q_1: |0>┤ X ├─────┤ X ├─░──╫─┤ Sdg ├┤ H ├┤M├\n",
      "        └───┘     └───┘ ░  ║ └─────┘└───┘└╥┘\n",
      "c1_0: 0 ═══════════════════╩══════════════╬═\n",
      "                                          ║ \n",
      "c1_1: 0 ══════════════════════════════════╩═\n",
      "                                            \n",
      "        ┌───┐┌───┐      ░ ┌─┐   \n",
      "q_0: |0>┤ X ├┤ H ├──■───░─┤M├───\n",
      "        ├───┤└───┘┌─┴─┐ ░ └╥┘┌─┐\n",
      "q_1: |0>┤ X ├─────┤ X ├─░──╫─┤M├\n",
      "        └───┘     └───┘ ░  ║ └╥┘\n",
      "c1_0: 0 ═══════════════════╩══╬═\n",
      "                              ║ \n",
      "c1_1: 0 ══════════════════════╩═\n",
      "                                \n"
     ]
    }
   ],
   "source": [
    "qc = QuantumCircuit(2)\n",
    "qc.x([0,1])\n",
    "qc.h(0)\n",
    "qc.cx(0,1)\n",
    "qc_tomo = state_tomography_circuits(qc, qc.qubits)\n",
    "for i in np.arange(len(qc_tomo)):\n",
    "    print(qc_tomo[i])"
   ]
  },
  {
   "cell_type": "code",
   "execution_count": 62,
   "metadata": {},
   "outputs": [
    {
     "name": "stdout",
     "output_type": "stream",
     "text": [
      "Job Status: job has successfully run\n"
     ]
    }
   ],
   "source": [
    "#least_busy = providers.ibmq.least_busy(provider.backends(filters=lambda b: b.configuration().n_qubits >= 2)[1:])\n",
    "job_exp = execute(qc_tomo, backend=simulator)\n",
    "job_monitor(job_exp)\n",
    "tomo = StateTomographyFitter(job_exp.result(), qc_tomo)\n",
    "rho = tomo.fit()"
   ]
  },
  {
   "cell_type": "code",
   "execution_count": 63,
   "metadata": {},
   "outputs": [
    {
     "data": {
      "image/png": "[encoded data removed]",
      "text/plain": [
       "<Figure size 432x288 with 4 Axes>"
      ]
     },
     "metadata": {
      "needs_background": "light"
     },
     "output_type": "display_data"
    }
   ],
   "source": [
    "plot_rho(rho)"
   ]
  },
  {
   "cell_type": "code",
   "execution_count": 59,
   "metadata": {},
   "outputs": [
    {
     "name": "stdout",
     "output_type": "stream",
     "text": [
      "Entanglement entropy:  (0.9002381638965147-7.742148427544376e-17j)\n"
     ]
    }
   ],
   "source": [
    "# compute entanglement entropy\n",
    "evals, vecs = la.eig(rho)\n",
    "s_ent = -np.sum(evals*np.log(evals))\n",
    "print(\"Entanglement entropy: \", s_ent)"
   ]
  },
  {
   "cell_type": "markdown",
   "metadata": {},
   "source": [
    "# 2. Bell's inequalities\n",
    "\n",
    "A state as simple as the singlet allows us to test a very deep result of quantum mechanics: the violation of Bell's inequalities. Some people even go as far as calling this the most fundamental result of quantum mechanics.\n",
    "\n",
    "So here we go. Given operators $A_i$ and $B_i$ that live on different hilbert spaces (and may even be spatially separated from each other), construct\n",
    "\n",
    "$$\n",
    "\\mathcal{E} = A_0B_0 + A_0 B_1 + A_1B_0 - A_1 B_1.\n",
    "$$"
   ]
  },
  {
   "cell_type": "markdown",
   "metadata": {},
   "source": [
    "With a bit of algebra we can show that\n",
    "\n",
    "$$\\mathcal{E}^2 = 4\\mathbf{I} - [A_0, A_1][B_0, B_1]. \\tag{4} \\label{E^2} $$\n",
    "\n",
    "So, classically, it is clear that the measurement of $\\mathcal{E}$ is bounded by two. This is called the [CHSH](https://journals.aps.org/prl/abstract/10.1103/PhysRevLett.23.880) bound.\n",
    "\n",
    "For non-commuting operators we have to work harder:\n",
    "$$\n",
    "\\begin{align*}\n",
    "\\langle \\mathcal{E}^2\\rangle & \\leq ||\\mathcal{E}^2|| \\\\\n",
    "    & = ||4\\mathbf{I} - [A_0,A_1][B_0, B_1]|| \\\\\n",
    "    & \\leq 4 + ||[A_0, A_1]|| \\cdot ||[B_0, B_1]|| \\\\\n",
    "    & \\leq 4 + 4||A_0|| \\cdot || A_1|| \\cdot || B_0 || \\cdot || B_1|| = 8.\n",
    "\\end{align*}\n",
    "$$\n",
    "\n",
    "This leads to *Tsirelson's bound* on the expectation $\\langle\\mathcal{E}\\rangle$:\n",
    "\n",
    "$$\n",
    "|\\langle\\mathcal{E}\\rangle|\\leq \\sqrt{\\langle \\mathcal{E}^2\\rangle} =2\\sqrt{2}. \\tag{7}\\label{tsi}\n",
    "$$\n",
    "\n",
    "$$A_0 = -\\frac{Z_A + X_A}{\\sqrt{2}}, \\quad A_1 = \\frac{Z_A - X_A}{\\sqrt{2}}, \\quad B_0 = X_B, \\quad B_1 = Z_B .$$"
   ]
  },
  {
   "cell_type": "code",
   "execution_count": 60,
   "metadata": {},
   "outputs": [
    {
     "name": "stdout",
     "output_type": "stream",
     "text": [
      "<E> =  2.8284271247461885\n"
     ]
    }
   ],
   "source": [
    "import pennylane as qml\n",
    "from pennylane import numpy as np\n",
    "\n",
    "dev = qml.device('default.qubit', wires=2)\n",
    "#dev = qml.device('qiskit.ibmq', wires=2, backend='ibmqx2', shots=1000)\n",
    "\n",
    "X = np.array([[0, 1], [1, 0]])\n",
    "Z = np.array([[1, 0], [0, -1]])\n",
    "\n",
    "B0 = X\n",
    "B1 = Z\n",
    "A0 = -(Z + X)/np.sqrt(2)\n",
    "A1 = (Z - X)/np.sqrt(2)\n",
    "\n",
    "C = np.kron(A0, B0 + B1) + np.kron(A1, B0 - B1)\n",
    "\n",
    "\n",
    "@qml.qnode(dev)\n",
    "def circuit():\n",
    "    qml.PauliX(wires=0)\n",
    "    qml.PauliX(wires=1)\n",
    "    qml.Hadamard(wires=0)\n",
    "    qml.CNOT(wires=[0, 1])\n",
    "\n",
    "    return qml.expval(qml.Hermitian(C, wires=[0, 1]))\n",
    "\n",
    "\n",
    "expval = circuit()\n",
    "print('<E> = ', expval)"
   ]
  },
  {
   "attachments": {
    "image.png": {
     "image/png": "[encoded data removed]"
    }
   },
   "cell_type": "markdown",
   "metadata": {},
   "source": [
    "# Deutsch–Jozsa algorithm\n",
    "\n",
    "The [Deutsch–Jozsa algorithm](https://www.isical.ac.in/~rcbose/internship/lectures2016/rt08deutschjozsa.pdf) is a toy algorithm that solves the following task on a quantum computer more more efficiently than a classical computer. Given a function \n",
    "$$\n",
    "f : \\{0,1\\}^n \\rightarrow \\{0,1\\} \n",
    "$$\n",
    "that is \n",
    "1. either constant: $f(x)=0$ or $f(x)=1$\n",
    "2. or balanced: $\\sum_{x=0}^{2^n-1} f(x) = 2^{n-1}$\n",
    "\n",
    "With a classical deterministic algorithm, the function $f(x)$ needs to be evaluated $2^{n-1}+1$ times in the worst case. We will see that the quantum algorithm only requires a single function query.\n",
    "\n",
    "In the Deutsch–Jozsa formulation, the function $f$ is implement as the following quantum oracle. It takes $n+1$ input qubits\n",
    "and returns\n",
    "\n",
    "$$\n",
    "\\ket{x}\\ket{1} \\rightarrow \\ket{x} \\ket{y \\oplus f(x)}\n",
    "$$\n",
    "\n",
    "Here $\\ket{x} = \\ket{x_0 x_1 \\dots x_{n-1}}$ and $\\oplus$ is addition moduloo 2.\n",
    "\n",
    "# <img src=\"attachment:image.png\" width=\"400\">\n",
    "$\\newcommand{\\ket}[1]{\\left|{#1}\\right\\rangle}$\n",
    "$\\newcommand{\\bra}[1]{\\left\\langle{#1}\\right|}$\n",
    "Figure: wikipedia CC BY-SA 4.0\n"
   ]
  },
  {
   "cell_type": "markdown",
   "metadata": {},
   "source": [
    "\n",
    "\n",
    "The input state $\\ket{\\psi_0}$ is transformed by a Hadamrd gates acting on all qubits into (up to some normalization factor)\n",
    "\n",
    "$$\n",
    "\\ket{\\psi_1} = \\sum_{x=0}^{2^n-1} \\ket{x} (\\ket{0}-\\ket{1})\n",
    "$$\n",
    "\n",
    "We now apply the orace to get\n",
    "\n",
    "$$\n",
    "\\ket{\\psi_2} = \\sum_{x=0}^{2^n-1} \\ket{x} (\\ket{f(x)}-\\ket{1 \\oplus f(x)})\n",
    "$$\n",
    "\n",
    "It is easy to see that\n",
    "\n",
    "$$\n",
    "\\ket{f(x)}-\\ket{1 \\oplus f(x)} = (-1)^{f(x)} (\\ket{0}-\\ket{1})\n",
    "$$\n",
    "\n",
    "i.e. each terms simply picks up a phase of $\\pi$ depending on the value of $f(x)$. At this point, the last qubit may be ignored and all that remains is\n",
    "\n",
    "$$\n",
    "\\ket{\\psi_2} = \\sum_{x=0}^{2^n-1} (-1)^{f(x)} \\ket{x} \n",
    "$$\n",
    "\n",
    "Finally, we apply Hadamard gates to all qubits. Remember that $H\\ket{0} = \\ket{0}+\\ket{1}$ and $H\\ket{1} = \\ket{0}-\\ket{1}$. Convince yourself that\n",
    "\n",
    "$$\n",
    "H^{\\otimes n} \\ket{x} = \\sum_{y=0}^{2^n-1} (-1)^{x \\cdot y} \\ket{y}\n",
    "$$\n",
    "\n",
    "where $x \\cdot y = x_0 y_0 \\oplus x_1 y_1 \\oplus \\dots \\oplus x_n y_n$ is the bitwise product. Then we have\n",
    "\n",
    "$$\n",
    "\\ket{\\psi_3} = \\sum_{y=0}^{2^n-1} \\sum_{x=0}^{2^n-1} (-1)^{f(x)} (-1)^{x\\cdot y} \\ket{y}\n",
    "$$\n",
    "\n",
    "Finally, we perform a measurement in the computational (z-) basis. The probability of getting $\\ket{0}$ is (now putting the normalization back in)\n",
    "\n",
    "$$\n",
    "\\left| \\frac{1}{2^n} \\sum_{y=0}^{2^n-1} \\sum_{x=0}^{2^n-1} (-1)^{f(x)} (-1)^{x\\cdot y} \\langle 0 | y \\rangle \\right|^2 \n",
    "=\n",
    "\\left| \\frac{1}{2^n} \\sum_{x=0}^{2^n-1} (-1)^{f(x)}\\right|^2\n",
    "$$\n",
    "\n",
    "which sums to zero if $f(x)$ is balanced or gives 1 if it is constant.\n"
   ]
  },
  {
   "cell_type": "code",
   "execution_count": null,
   "metadata": {},
   "outputs": [],
   "source": []
  }
 ],
 "metadata": {
  "kernelspec": {
   "display_name": "Python 3.7.4 64-bit ('base': conda)",
   "language": "python",
   "name": "python37464bitbasecondab089cb07e68842efa599417390eab4bb"
  },
  "language_info": {
   "codemirror_mode": {
    "name": "ipython",
    "version": 3
   },
   "file_extension": ".py",
   "mimetype": "text/x-python",
   "name": "python",
   "nbconvert_exporter": "python",
   "pygments_lexer": "ipython3",
   "version": "3.7.6"
  }
 },
 "nbformat": 4,
 "nbformat_minor": 4
}
